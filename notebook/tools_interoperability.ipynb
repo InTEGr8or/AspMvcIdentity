{
  "cells": [
    {
      "cell_type": "markdown",
      "metadata": {
        "id": "view-in-github",
        "colab_type": "text"
      },
      "source": [
        "<a href=\"https://colab.research.google.com/github/InTEGr8or/AspMvcIdentity/blob/master/notebook/tools_interoperability.ipynb\" target=\"_parent\"><img src=\"https://colab.research.google.com/assets/colab-badge.svg\" alt=\"Open In Colab\"/></a>"
      ]
    },
    {
      "cell_type": "markdown",
      "metadata": {
        "id": "0_2Y4yHA3TU9"
      },
      "source": [
        "# Cross-Framework LLM Tool Integration with AG2\n",
        "\n",
        "In this tutorial, we demonstrate how to integrate LLM tools from various frameworks—including [LangChain Tools](https://python.langchain.com/v0.1/docs/modules/tools), [CrewAI Tools](https://github.com/crewAIInc/crewAI-tools/tree/main), and [PydanticAI Tools](https://ai.pydantic.dev/tools/) into the AG2 framework. This process enables smooth interoperability between these systems, allowing developers to leverage the unique capabilities of each toolset within AG2's flexible agent-based architecture. By the end of this guide, you will understand how to configure agents, adapt these tools for use in AG2, and validate the integration through practical examples."
      ]
    },
    {
      "cell_type": "markdown",
      "metadata": {
        "id": "0XM5yYdB3TU-"
      },
      "source": [
        "## LangChain Tools Integration\n",
        "\n",
        "LangChain is a popular framework that offers a wide range of tools to work with LLMs. LangChain has already implemented a variety of tools that can be easily integrated into AG2. You can explore the available tools in the [LangChain Community Tools](https://github.com/langchain-ai/langchain/tree/master/libs/community/langchain_community/tools) folder. These tools, such as those for querying APIs, web scraping, and text generation, can be quickly incorporated into AG2, providing powerful functionality for your agents.\n",
        "\n",
        "### Installation\n",
        "To integrate LangChain tools into the AG2 framework, install the required dependencies:\n",
        "\n",
        "```bash\n",
        "pip install ag2[interop-langchain]\n",
        "```\n",
        "\n",
        "Additionally, this notebook uses LangChain's [Wikipedia Tool](https://api.python.langchain.com/en/latest/tools/langchain_community.tools.wikipedia.tool.WikipediaQueryRun.html), which requires the `wikipedia` package. Install it with:\n",
        "\n",
        "```bash\n",
        "pip install wikipedia\n",
        "```\n"
      ]
    },
    {
      "cell_type": "code",
      "source": [
        "!pip install ag2[interop-langchain]\n",
        "!pip install wikipedia"
      ],
      "metadata": {
        "collapsed": true,
        "id": "E1hattp35n1g",
        "outputId": "e6f15a90-7e76-47b1-f529-6c341598d63f",
        "colab": {
          "base_uri": "https://localhost:8080/"
        }
      },
      "execution_count": 1,
      "outputs": [
        {
          "output_type": "stream",
          "name": "stdout",
          "text": [
            "Collecting ag2[interop-langchain]\n",
            "  Downloading ag2-0.7.3-py3-none-any.whl.metadata (22 kB)\n",
            "Collecting pyautogen==0.7.3 (from ag2[interop-langchain])\n",
            "  Downloading pyautogen-0.7.3-py3-none-any.whl.metadata (31 kB)\n",
            "Collecting asyncer==0.0.8 (from pyautogen==0.7.3->ag2[interop-langchain])\n",
            "  Downloading asyncer-0.0.8-py3-none-any.whl.metadata (6.7 kB)\n",
            "Collecting diskcache (from pyautogen==0.7.3->ag2[interop-langchain])\n",
            "  Downloading diskcache-5.6.3-py3-none-any.whl.metadata (20 kB)\n",
            "Collecting docker (from pyautogen==0.7.3->ag2[interop-langchain])\n",
            "  Downloading docker-7.1.0-py3-none-any.whl.metadata (3.8 kB)\n",
            "Collecting fast-depends<3,>=2.4.12 (from pyautogen==0.7.3->ag2[interop-langchain])\n",
            "  Downloading fast_depends-2.4.12-py3-none-any.whl.metadata (7.6 kB)\n",
            "Requirement already satisfied: numpy in /usr/local/lib/python3.11/dist-packages (from pyautogen==0.7.3->ag2[interop-langchain]) (1.26.4)\n",
            "Requirement already satisfied: openai>=1.58 in /usr/local/lib/python3.11/dist-packages (from pyautogen==0.7.3->ag2[interop-langchain]) (1.59.9)\n",
            "Requirement already satisfied: packaging in /usr/local/lib/python3.11/dist-packages (from pyautogen==0.7.3->ag2[interop-langchain]) (24.2)\n",
            "Requirement already satisfied: pydantic<3,>=2.6.1 in /usr/local/lib/python3.11/dist-packages (from pyautogen==0.7.3->ag2[interop-langchain]) (2.10.6)\n",
            "Collecting python-dotenv (from pyautogen==0.7.3->ag2[interop-langchain])\n",
            "  Downloading python_dotenv-1.0.1-py3-none-any.whl.metadata (23 kB)\n",
            "Requirement already satisfied: termcolor in /usr/local/lib/python3.11/dist-packages (from pyautogen==0.7.3->ag2[interop-langchain]) (2.5.0)\n",
            "Collecting tiktoken (from pyautogen==0.7.3->ag2[interop-langchain])\n",
            "  Downloading tiktoken-0.8.0-cp311-cp311-manylinux_2_17_x86_64.manylinux2014_x86_64.whl.metadata (6.6 kB)\n",
            "Requirement already satisfied: websockets<15,>=14 in /usr/local/lib/python3.11/dist-packages (from pyautogen==0.7.3->ag2[interop-langchain]) (14.2)\n",
            "Collecting langchain-community<1,>=0.3.12 (from pyautogen[interop-langchain]==0.7.3; extra == \"interop-langchain\"->ag2[interop-langchain])\n",
            "  Downloading langchain_community-0.3.16-py3-none-any.whl.metadata (2.9 kB)\n",
            "Requirement already satisfied: anyio<5.0,>=3.4.0 in /usr/local/lib/python3.11/dist-packages (from asyncer==0.0.8->pyautogen==0.7.3->ag2[interop-langchain]) (3.7.1)\n",
            "Requirement already satisfied: PyYAML>=5.3 in /usr/local/lib/python3.11/dist-packages (from langchain-community<1,>=0.3.12->pyautogen[interop-langchain]==0.7.3; extra == \"interop-langchain\"->ag2[interop-langchain]) (6.0.2)\n",
            "Requirement already satisfied: SQLAlchemy<3,>=1.4 in /usr/local/lib/python3.11/dist-packages (from langchain-community<1,>=0.3.12->pyautogen[interop-langchain]==0.7.3; extra == \"interop-langchain\"->ag2[interop-langchain]) (2.0.37)\n",
            "Requirement already satisfied: aiohttp<4.0.0,>=3.8.3 in /usr/local/lib/python3.11/dist-packages (from langchain-community<1,>=0.3.12->pyautogen[interop-langchain]==0.7.3; extra == \"interop-langchain\"->ag2[interop-langchain]) (3.11.11)\n",
            "Collecting dataclasses-json<0.7,>=0.5.7 (from langchain-community<1,>=0.3.12->pyautogen[interop-langchain]==0.7.3; extra == \"interop-langchain\"->ag2[interop-langchain])\n",
            "  Downloading dataclasses_json-0.6.7-py3-none-any.whl.metadata (25 kB)\n",
            "Collecting httpx-sse<0.5.0,>=0.4.0 (from langchain-community<1,>=0.3.12->pyautogen[interop-langchain]==0.7.3; extra == \"interop-langchain\"->ag2[interop-langchain])\n",
            "  Downloading httpx_sse-0.4.0-py3-none-any.whl.metadata (9.0 kB)\n",
            "Requirement already satisfied: langchain<0.4.0,>=0.3.16 in /usr/local/lib/python3.11/dist-packages (from langchain-community<1,>=0.3.12->pyautogen[interop-langchain]==0.7.3; extra == \"interop-langchain\"->ag2[interop-langchain]) (0.3.16)\n",
            "Requirement already satisfied: langchain-core<0.4.0,>=0.3.32 in /usr/local/lib/python3.11/dist-packages (from langchain-community<1,>=0.3.12->pyautogen[interop-langchain]==0.7.3; extra == \"interop-langchain\"->ag2[interop-langchain]) (0.3.32)\n",
            "Requirement already satisfied: langsmith<0.4,>=0.1.125 in /usr/local/lib/python3.11/dist-packages (from langchain-community<1,>=0.3.12->pyautogen[interop-langchain]==0.7.3; extra == \"interop-langchain\"->ag2[interop-langchain]) (0.3.2)\n",
            "Collecting pydantic-settings<3.0.0,>=2.4.0 (from langchain-community<1,>=0.3.12->pyautogen[interop-langchain]==0.7.3; extra == \"interop-langchain\"->ag2[interop-langchain])\n",
            "  Downloading pydantic_settings-2.7.1-py3-none-any.whl.metadata (3.5 kB)\n",
            "Requirement already satisfied: requests<3,>=2 in /usr/local/lib/python3.11/dist-packages (from langchain-community<1,>=0.3.12->pyautogen[interop-langchain]==0.7.3; extra == \"interop-langchain\"->ag2[interop-langchain]) (2.32.3)\n",
            "Requirement already satisfied: tenacity!=8.4.0,<10,>=8.1.0 in /usr/local/lib/python3.11/dist-packages (from langchain-community<1,>=0.3.12->pyautogen[interop-langchain]==0.7.3; extra == \"interop-langchain\"->ag2[interop-langchain]) (9.0.0)\n",
            "Requirement already satisfied: distro<2,>=1.7.0 in /usr/local/lib/python3.11/dist-packages (from openai>=1.58->pyautogen==0.7.3->ag2[interop-langchain]) (1.9.0)\n",
            "Requirement already satisfied: httpx<1,>=0.23.0 in /usr/local/lib/python3.11/dist-packages (from openai>=1.58->pyautogen==0.7.3->ag2[interop-langchain]) (0.28.1)\n",
            "Requirement already satisfied: jiter<1,>=0.4.0 in /usr/local/lib/python3.11/dist-packages (from openai>=1.58->pyautogen==0.7.3->ag2[interop-langchain]) (0.8.2)\n",
            "Requirement already satisfied: sniffio in /usr/local/lib/python3.11/dist-packages (from openai>=1.58->pyautogen==0.7.3->ag2[interop-langchain]) (1.3.1)\n",
            "Requirement already satisfied: tqdm>4 in /usr/local/lib/python3.11/dist-packages (from openai>=1.58->pyautogen==0.7.3->ag2[interop-langchain]) (4.67.1)\n",
            "Requirement already satisfied: typing-extensions<5,>=4.11 in /usr/local/lib/python3.11/dist-packages (from openai>=1.58->pyautogen==0.7.3->ag2[interop-langchain]) (4.12.2)\n",
            "Requirement already satisfied: annotated-types>=0.6.0 in /usr/local/lib/python3.11/dist-packages (from pydantic<3,>=2.6.1->pyautogen==0.7.3->ag2[interop-langchain]) (0.7.0)\n",
            "Requirement already satisfied: pydantic-core==2.27.2 in /usr/local/lib/python3.11/dist-packages (from pydantic<3,>=2.6.1->pyautogen==0.7.3->ag2[interop-langchain]) (2.27.2)\n",
            "Requirement already satisfied: urllib3>=1.26.0 in /usr/local/lib/python3.11/dist-packages (from docker->pyautogen==0.7.3->ag2[interop-langchain]) (2.3.0)\n",
            "Requirement already satisfied: regex>=2022.1.18 in /usr/local/lib/python3.11/dist-packages (from tiktoken->pyautogen==0.7.3->ag2[interop-langchain]) (2024.11.6)\n",
            "Requirement already satisfied: aiohappyeyeballs>=2.3.0 in /usr/local/lib/python3.11/dist-packages (from aiohttp<4.0.0,>=3.8.3->langchain-community<1,>=0.3.12->pyautogen[interop-langchain]==0.7.3; extra == \"interop-langchain\"->ag2[interop-langchain]) (2.4.4)\n",
            "Requirement already satisfied: aiosignal>=1.1.2 in /usr/local/lib/python3.11/dist-packages (from aiohttp<4.0.0,>=3.8.3->langchain-community<1,>=0.3.12->pyautogen[interop-langchain]==0.7.3; extra == \"interop-langchain\"->ag2[interop-langchain]) (1.3.2)\n",
            "Requirement already satisfied: attrs>=17.3.0 in /usr/local/lib/python3.11/dist-packages (from aiohttp<4.0.0,>=3.8.3->langchain-community<1,>=0.3.12->pyautogen[interop-langchain]==0.7.3; extra == \"interop-langchain\"->ag2[interop-langchain]) (25.1.0)\n",
            "Requirement already satisfied: frozenlist>=1.1.1 in /usr/local/lib/python3.11/dist-packages (from aiohttp<4.0.0,>=3.8.3->langchain-community<1,>=0.3.12->pyautogen[interop-langchain]==0.7.3; extra == \"interop-langchain\"->ag2[interop-langchain]) (1.5.0)\n",
            "Requirement already satisfied: multidict<7.0,>=4.5 in /usr/local/lib/python3.11/dist-packages (from aiohttp<4.0.0,>=3.8.3->langchain-community<1,>=0.3.12->pyautogen[interop-langchain]==0.7.3; extra == \"interop-langchain\"->ag2[interop-langchain]) (6.1.0)\n",
            "Requirement already satisfied: propcache>=0.2.0 in /usr/local/lib/python3.11/dist-packages (from aiohttp<4.0.0,>=3.8.3->langchain-community<1,>=0.3.12->pyautogen[interop-langchain]==0.7.3; extra == \"interop-langchain\"->ag2[interop-langchain]) (0.2.1)\n",
            "Requirement already satisfied: yarl<2.0,>=1.17.0 in /usr/local/lib/python3.11/dist-packages (from aiohttp<4.0.0,>=3.8.3->langchain-community<1,>=0.3.12->pyautogen[interop-langchain]==0.7.3; extra == \"interop-langchain\"->ag2[interop-langchain]) (1.18.3)\n",
            "Requirement already satisfied: idna>=2.8 in /usr/local/lib/python3.11/dist-packages (from anyio<5.0,>=3.4.0->asyncer==0.0.8->pyautogen==0.7.3->ag2[interop-langchain]) (3.10)\n",
            "Collecting marshmallow<4.0.0,>=3.18.0 (from dataclasses-json<0.7,>=0.5.7->langchain-community<1,>=0.3.12->pyautogen[interop-langchain]==0.7.3; extra == \"interop-langchain\"->ag2[interop-langchain])\n",
            "  Downloading marshmallow-3.26.1-py3-none-any.whl.metadata (7.3 kB)\n",
            "Collecting typing-inspect<1,>=0.4.0 (from dataclasses-json<0.7,>=0.5.7->langchain-community<1,>=0.3.12->pyautogen[interop-langchain]==0.7.3; extra == \"interop-langchain\"->ag2[interop-langchain])\n",
            "  Downloading typing_inspect-0.9.0-py3-none-any.whl.metadata (1.5 kB)\n",
            "Requirement already satisfied: certifi in /usr/local/lib/python3.11/dist-packages (from httpx<1,>=0.23.0->openai>=1.58->pyautogen==0.7.3->ag2[interop-langchain]) (2024.12.14)\n",
            "Requirement already satisfied: httpcore==1.* in /usr/local/lib/python3.11/dist-packages (from httpx<1,>=0.23.0->openai>=1.58->pyautogen==0.7.3->ag2[interop-langchain]) (1.0.7)\n",
            "Requirement already satisfied: h11<0.15,>=0.13 in /usr/local/lib/python3.11/dist-packages (from httpcore==1.*->httpx<1,>=0.23.0->openai>=1.58->pyautogen==0.7.3->ag2[interop-langchain]) (0.14.0)\n",
            "Requirement already satisfied: langchain-text-splitters<0.4.0,>=0.3.3 in /usr/local/lib/python3.11/dist-packages (from langchain<0.4.0,>=0.3.16->langchain-community<1,>=0.3.12->pyautogen[interop-langchain]==0.7.3; extra == \"interop-langchain\"->ag2[interop-langchain]) (0.3.5)\n",
            "Requirement already satisfied: jsonpatch<2.0,>=1.33 in /usr/local/lib/python3.11/dist-packages (from langchain-core<0.4.0,>=0.3.32->langchain-community<1,>=0.3.12->pyautogen[interop-langchain]==0.7.3; extra == \"interop-langchain\"->ag2[interop-langchain]) (1.33)\n",
            "Requirement already satisfied: orjson<4.0.0,>=3.9.14 in /usr/local/lib/python3.11/dist-packages (from langsmith<0.4,>=0.1.125->langchain-community<1,>=0.3.12->pyautogen[interop-langchain]==0.7.3; extra == \"interop-langchain\"->ag2[interop-langchain]) (3.10.15)\n",
            "Requirement already satisfied: requests-toolbelt<2.0.0,>=1.0.0 in /usr/local/lib/python3.11/dist-packages (from langsmith<0.4,>=0.1.125->langchain-community<1,>=0.3.12->pyautogen[interop-langchain]==0.7.3; extra == \"interop-langchain\"->ag2[interop-langchain]) (1.0.0)\n",
            "Requirement already satisfied: zstandard<0.24.0,>=0.23.0 in /usr/local/lib/python3.11/dist-packages (from langsmith<0.4,>=0.1.125->langchain-community<1,>=0.3.12->pyautogen[interop-langchain]==0.7.3; extra == \"interop-langchain\"->ag2[interop-langchain]) (0.23.0)\n",
            "Requirement already satisfied: charset-normalizer<4,>=2 in /usr/local/lib/python3.11/dist-packages (from requests<3,>=2->langchain-community<1,>=0.3.12->pyautogen[interop-langchain]==0.7.3; extra == \"interop-langchain\"->ag2[interop-langchain]) (3.4.1)\n",
            "Requirement already satisfied: greenlet!=0.4.17 in /usr/local/lib/python3.11/dist-packages (from SQLAlchemy<3,>=1.4->langchain-community<1,>=0.3.12->pyautogen[interop-langchain]==0.7.3; extra == \"interop-langchain\"->ag2[interop-langchain]) (3.1.1)\n",
            "Requirement already satisfied: jsonpointer>=1.9 in /usr/local/lib/python3.11/dist-packages (from jsonpatch<2.0,>=1.33->langchain-core<0.4.0,>=0.3.32->langchain-community<1,>=0.3.12->pyautogen[interop-langchain]==0.7.3; extra == \"interop-langchain\"->ag2[interop-langchain]) (3.0.0)\n",
            "Collecting mypy-extensions>=0.3.0 (from typing-inspect<1,>=0.4.0->dataclasses-json<0.7,>=0.5.7->langchain-community<1,>=0.3.12->pyautogen[interop-langchain]==0.7.3; extra == \"interop-langchain\"->ag2[interop-langchain])\n",
            "  Downloading mypy_extensions-1.0.0-py3-none-any.whl.metadata (1.1 kB)\n",
            "Downloading pyautogen-0.7.3-py3-none-any.whl (562 kB)\n",
            "\u001b[2K   \u001b[90m━━━━━━━━━━━━━━━━━━━━━━━━━━━━━━━━━━━━━━━━\u001b[0m \u001b[32m562.5/562.5 kB\u001b[0m \u001b[31m13.0 MB/s\u001b[0m eta \u001b[36m0:00:00\u001b[0m\n",
            "\u001b[?25hDownloading asyncer-0.0.8-py3-none-any.whl (9.2 kB)\n",
            "Downloading ag2-0.7.3-py3-none-any.whl (13 kB)\n",
            "Downloading fast_depends-2.4.12-py3-none-any.whl (17 kB)\n",
            "Downloading langchain_community-0.3.16-py3-none-any.whl (2.5 MB)\n",
            "\u001b[2K   \u001b[90m━━━━━━━━━━━━━━━━━━━━━━━━━━━━━━━━━━━━━━━━\u001b[0m \u001b[32m2.5/2.5 MB\u001b[0m \u001b[31m46.4 MB/s\u001b[0m eta \u001b[36m0:00:00\u001b[0m\n",
            "\u001b[?25hDownloading diskcache-5.6.3-py3-none-any.whl (45 kB)\n",
            "\u001b[2K   \u001b[90m━━━━━━━━━━━━━━━━━━━━━━━━━━━━━━━━━━━━━━━━\u001b[0m \u001b[32m45.5/45.5 kB\u001b[0m \u001b[31m3.6 MB/s\u001b[0m eta \u001b[36m0:00:00\u001b[0m\n",
            "\u001b[?25hDownloading docker-7.1.0-py3-none-any.whl (147 kB)\n",
            "\u001b[2K   \u001b[90m━━━━━━━━━━━━━━━━━━━━━━━━━━━━━━━━━━━━━━━━\u001b[0m \u001b[32m147.8/147.8 kB\u001b[0m \u001b[31m13.6 MB/s\u001b[0m eta \u001b[36m0:00:00\u001b[0m\n",
            "\u001b[?25hDownloading python_dotenv-1.0.1-py3-none-any.whl (19 kB)\n",
            "Downloading tiktoken-0.8.0-cp311-cp311-manylinux_2_17_x86_64.manylinux2014_x86_64.whl (1.2 MB)\n",
            "\u001b[2K   \u001b[90m━━━━━━━━━━━━━━━━━━━━━━━━━━━━━━━━━━━━━━━━\u001b[0m \u001b[32m1.2/1.2 MB\u001b[0m \u001b[31m50.7 MB/s\u001b[0m eta \u001b[36m0:00:00\u001b[0m\n",
            "\u001b[?25hDownloading dataclasses_json-0.6.7-py3-none-any.whl (28 kB)\n",
            "Downloading httpx_sse-0.4.0-py3-none-any.whl (7.8 kB)\n",
            "Downloading pydantic_settings-2.7.1-py3-none-any.whl (29 kB)\n",
            "Downloading marshmallow-3.26.1-py3-none-any.whl (50 kB)\n",
            "\u001b[2K   \u001b[90m━━━━━━━━━━━━━━━━━━━━━━━━━━━━━━━━━━━━━━━━\u001b[0m \u001b[32m50.9/50.9 kB\u001b[0m \u001b[31m4.5 MB/s\u001b[0m eta \u001b[36m0:00:00\u001b[0m\n",
            "\u001b[?25hDownloading typing_inspect-0.9.0-py3-none-any.whl (8.8 kB)\n",
            "Downloading mypy_extensions-1.0.0-py3-none-any.whl (4.7 kB)\n",
            "Installing collected packages: python-dotenv, mypy-extensions, marshmallow, httpx-sse, diskcache, typing-inspect, tiktoken, docker, asyncer, pydantic-settings, fast-depends, dataclasses-json, pyautogen, ag2, langchain-community\n",
            "Successfully installed ag2-0.7.3 asyncer-0.0.8 dataclasses-json-0.6.7 diskcache-5.6.3 docker-7.1.0 fast-depends-2.4.12 httpx-sse-0.4.0 langchain-community-0.3.16 marshmallow-3.26.1 mypy-extensions-1.0.0 pyautogen-0.7.3 pydantic-settings-2.7.1 python-dotenv-1.0.1 tiktoken-0.8.0 typing-inspect-0.9.0\n",
            "Collecting wikipedia\n",
            "  Downloading wikipedia-1.4.0.tar.gz (27 kB)\n",
            "  Preparing metadata (setup.py) ... \u001b[?25l\u001b[?25hdone\n",
            "Requirement already satisfied: beautifulsoup4 in /usr/local/lib/python3.11/dist-packages (from wikipedia) (4.12.3)\n",
            "Requirement already satisfied: requests<3.0.0,>=2.0.0 in /usr/local/lib/python3.11/dist-packages (from wikipedia) (2.32.3)\n",
            "Requirement already satisfied: charset-normalizer<4,>=2 in /usr/local/lib/python3.11/dist-packages (from requests<3.0.0,>=2.0.0->wikipedia) (3.4.1)\n",
            "Requirement already satisfied: idna<4,>=2.5 in /usr/local/lib/python3.11/dist-packages (from requests<3.0.0,>=2.0.0->wikipedia) (3.10)\n",
            "Requirement already satisfied: urllib3<3,>=1.21.1 in /usr/local/lib/python3.11/dist-packages (from requests<3.0.0,>=2.0.0->wikipedia) (2.3.0)\n",
            "Requirement already satisfied: certifi>=2017.4.17 in /usr/local/lib/python3.11/dist-packages (from requests<3.0.0,>=2.0.0->wikipedia) (2024.12.14)\n",
            "Requirement already satisfied: soupsieve>1.2 in /usr/local/lib/python3.11/dist-packages (from beautifulsoup4->wikipedia) (2.6)\n",
            "Building wheels for collected packages: wikipedia\n",
            "  Building wheel for wikipedia (setup.py) ... \u001b[?25l\u001b[?25hdone\n",
            "  Created wheel for wikipedia: filename=wikipedia-1.4.0-py3-none-any.whl size=11679 sha256=72d08ad58222fa06f5a8aabdf499b1473c3ca9bba12a530e2d48f28dc8779ec6\n",
            "  Stored in directory: /root/.cache/pip/wheels/8f/ab/cb/45ccc40522d3a1c41e1d2ad53b8f33a62f394011ec38cd71c6\n",
            "Successfully built wikipedia\n",
            "Installing collected packages: wikipedia\n",
            "Successfully installed wikipedia-1.4.0\n"
          ]
        }
      ]
    },
    {
      "cell_type": "markdown",
      "metadata": {
        "id": "nYD-6Vdy3TU_"
      },
      "source": [
        "### Imports\n",
        "\n",
        "Import necessary modules and tools.\n",
        "\n",
        "- [WikipediaQueryRun](https://api.python.langchain.com/en/latest/tools/langchain_community.tools.wikipedia.tool.WikipediaQueryRun.html) and [WikipediaAPIWrapper](https://python.langchain.com/api_reference/community/utilities/langchain_community.utilities.wikipedia.WikipediaAPIWrapper.html): Tools for querying Wikipedia.\n",
        "- `AssistantAgent` and `UserProxyAgent`: Agents that facilitate communication in the AG2 framework.\n",
        "- `Interoperability`: This module acts as a bridge, making it easier to integrate LangChain tools with AG2’s architecture."
      ]
    },
    {
      "cell_type": "code",
      "execution_count": 2,
      "metadata": {
        "id": "n2JCcTQq3TVA"
      },
      "outputs": [],
      "source": [
        "import os\n",
        "\n",
        "from langchain_community.tools import WikipediaQueryRun\n",
        "from langchain_community.utilities import WikipediaAPIWrapper\n",
        "\n",
        "from autogen import AssistantAgent, UserProxyAgent\n",
        "from autogen.interop import Interoperability"
      ]
    },
    {
      "cell_type": "markdown",
      "metadata": {
        "id": "iu8FaMSi3TVA"
      },
      "source": [
        "### Agent Configuration\n",
        "\n",
        "Configure the agents for the interaction.\n",
        "\n",
        "- `config_list` defines the LLM configurations, including the model and API key.\n",
        "- `UserProxyAgent` simulates user inputs without requiring actual human interaction (set to `NEVER`).\n",
        "- `AssistantAgent` represents the AI agent, configured with the LLM settings."
      ]
    },
    {
      "cell_type": "code",
      "execution_count": 14,
      "metadata": {
        "id": "zKrUnJCg3TVB"
      },
      "outputs": [],
      "source": [
        "from google.colab import userdata\n",
        "api_key = userdata.get('OPENAI_API_KEY')\n",
        "# os.environ[\"OPENAI_API_KEY\"] =\n",
        "\n",
        "config_list = [{\"model\": \"gpt-4o\", \"api_key\": os.environ[\"OPENAI_API_KEY\"]}]\n",
        "user_proxy = UserProxyAgent(\n",
        "    name=\"User\",\n",
        "    human_input_mode=\"NEVER\",\n",
        ")\n",
        "\n",
        "chatbot = AssistantAgent(\n",
        "    name=\"chatbot\",\n",
        "    llm_config={\"config_list\": config_list},\n",
        ")"
      ]
    },
    {
      "cell_type": "markdown",
      "metadata": {
        "id": "Cm8FquvH3TVB"
      },
      "source": [
        "### Tool Integration\n",
        "\n",
        "- Initialize and register the LangChain tool with AG2.\n",
        "- [WikipediaAPIWrapper](https://python.langchain.com/api_reference/community/utilities/langchain_community.utilities.wikipedia.WikipediaAPIWrapper.html): Configured to fetch the top 1 result from Wikipedia with a maximum of 1000 characters per document.\n",
        "- [WikipediaQueryRun](https://api.python.langchain.com/en/latest/tools/langchain_community.tools.wikipedia.tool.WikipediaQueryRun.html): A LangChain tool that executes Wikipedia queries.\n",
        "- `Interoperability`: Converts the LangChain tool into a format compatible with the AG2 framework.\n",
        "- `ag2_tool.register_for_execution(user_proxy)`: Registers the tool for use by the user_proxy agent.\n",
        "- `ag2_tool.register_for_llm(chatbot)`: Registers the tool for integration with the chatbot agent.\n"
      ]
    },
    {
      "cell_type": "code",
      "execution_count": null,
      "metadata": {
        "id": "l-8w8PDF3TVC"
      },
      "outputs": [],
      "source": [
        "api_wrapper = WikipediaAPIWrapper(top_k_results=1, doc_content_chars_max=1000)\n",
        "langchain_tool = WikipediaQueryRun(api_wrapper=api_wrapper)\n",
        "\n",
        "interop = Interoperability()\n",
        "ag2_tool = interop.convert_tool(tool=langchain_tool, type=\"langchain\")\n",
        "\n",
        "ag2_tool.register_for_execution(user_proxy)\n",
        "ag2_tool.register_for_llm(chatbot)"
      ]
    },
    {
      "cell_type": "code",
      "execution_count": null,
      "metadata": {
        "id": "PxfQQyXF3TVC",
        "outputId": "917d8263-3a61-4577-e9ae-d1ad8c474a52"
      },
      "outputs": [
        {
          "name": "stdout",
          "output_type": "stream",
          "text": [
            "\u001b[33mUser\u001b[0m (to chatbot):\n",
            "\n",
            "Tell me about the history of the United States\n",
            "\n",
            "--------------------------------------------------------------------------------\n",
            "\u001b[33mchatbot\u001b[0m (to User):\n",
            "\n",
            "\u001b[32m***** Suggested tool call (call_0x3F3lbGj9tth5xxuipsZk3Y): wikipedia *****\u001b[0m\n",
            "Arguments: \n",
            "{\"tool_input\":{\"query\":\"history of the United States\"}}\n",
            "\u001b[32m**************************************************************************\u001b[0m\n",
            "\n",
            "--------------------------------------------------------------------------------\n",
            "\u001b[35m\n",
            ">>>>>>>> EXECUTING FUNCTION wikipedia...\u001b[0m\n",
            "\u001b[33mUser\u001b[0m (to chatbot):\n",
            "\n",
            "\u001b[32m***** Response from calling tool (call_0x3F3lbGj9tth5xxuipsZk3Y) *****\u001b[0m\n",
            "Page: History of the United States\n",
            "Summary: The history of the lands that became the United States began with the arrival of the first people in the Americas around 15,000 BC. After European colonization of North America began in the late 15th century, wars and epidemics decimated Indigenous societies. By the 1760s, the thirteen British colonies were established. The Southern Colonies built an agricultural system on slave labor, enslaving millions from Africa. After defeating France, the British Parliament imposed a series of taxes; resistance to these taxes, especially the Boston Tea Party in 1773, led to Parliament issuing the Intolerable Acts designed to end self-government.\n",
            "In 1776, the United States declared its independence. Led by General George Washington, it won the Revolutionary War in 1783. The Constitution was adopted in 1789, and a Bill of Rights was added in 1791 to guarantee inalienable rights. Washington, the first president, and his adviser Alexander Hamilton created a\n",
            "\u001b[32m**********************************************************************\u001b[0m\n",
            "\n",
            "--------------------------------------------------------------------------------\n",
            "\u001b[33mchatbot\u001b[0m (to User):\n",
            "\n",
            "The history of the United States began with the arrival of the first people in the Americas around 15,000 BC. European colonization commenced in the late 15th century, and this led to significant impacts on Indigenous societies, including wars and epidemics that decimated populations. By the 1760s, thirteen British colonies were firmly established. In the Southern Colonies, an agricultural economy heavily reliant on slave labor developed, involving the enslavement of millions of Africans.\n",
            "\n",
            "Tensions arose in the 18th century between these colonies and Britain, primarily due to taxation without representation, which culminated in events such as the Boston Tea Party in 1773. These events prompted the British Parliament to pass the Intolerable Acts in an attempt to suppress self-governance in the colonies.\n",
            "\n",
            "In 1776, the colonies declared their independence, forming the United States of America. Under the leadership of General George Washington, the colonies won the Revolutionary War against Britain, achieving victory in 1783. The United States adopted its Constitution in 1789, followed by the Bill of Rights in 1791, which enshrined fundamental rights.\n",
            "\n",
            "George Washington became the first President, and along with his adviser Alexander Hamilton, began shaping the new nation's governmental and economic structures. This marked the early stages of the United States' journey to becoming an independent and unified country. TERMINATE\n",
            "\n",
            "--------------------------------------------------------------------------------\n"
          ]
        },
        {
          "data": {
            "text/plain": [
              "ChatResult(chat_id=None, chat_history=[{'content': 'Tell me about the history of the United States', 'role': 'assistant', 'name': 'User'}, {'tool_calls': [{'id': 'call_0x3F3lbGj9tth5xxuipsZk3Y', 'function': {'arguments': '{\"tool_input\":{\"query\":\"history of the United States\"}}', 'name': 'wikipedia'}, 'type': 'function'}], 'content': None, 'role': 'assistant'}, {'content': 'Page: History of the United States\\nSummary: The history of the lands that became the United States began with the arrival of the first people in the Americas around 15,000 BC. After European colonization of North America began in the late 15th century, wars and epidemics decimated Indigenous societies. By the 1760s, the thirteen British colonies were established. The Southern Colonies built an agricultural system on slave labor, enslaving millions from Africa. After defeating France, the British Parliament imposed a series of taxes; resistance to these taxes, especially the Boston Tea Party in 1773, led to Parliament issuing the Intolerable Acts designed to end self-government.\\nIn 1776, the United States declared its independence. Led by General George Washington, it won the Revolutionary War in 1783. The Constitution was adopted in 1789, and a Bill of Rights was added in 1791 to guarantee inalienable rights. Washington, the first president, and his adviser Alexander Hamilton created a', 'tool_responses': [{'tool_call_id': 'call_0x3F3lbGj9tth5xxuipsZk3Y', 'role': 'tool', 'content': 'Page: History of the United States\\nSummary: The history of the lands that became the United States began with the arrival of the first people in the Americas around 15,000 BC. After European colonization of North America began in the late 15th century, wars and epidemics decimated Indigenous societies. By the 1760s, the thirteen British colonies were established. The Southern Colonies built an agricultural system on slave labor, enslaving millions from Africa. After defeating France, the British Parliament imposed a series of taxes; resistance to these taxes, especially the Boston Tea Party in 1773, led to Parliament issuing the Intolerable Acts designed to end self-government.\\nIn 1776, the United States declared its independence. Led by General George Washington, it won the Revolutionary War in 1783. The Constitution was adopted in 1789, and a Bill of Rights was added in 1791 to guarantee inalienable rights. Washington, the first president, and his adviser Alexander Hamilton created a'}], 'role': 'tool', 'name': 'User'}, {'content': \"The history of the United States began with the arrival of the first people in the Americas around 15,000 BC. European colonization commenced in the late 15th century, and this led to significant impacts on Indigenous societies, including wars and epidemics that decimated populations. By the 1760s, thirteen British colonies were firmly established. In the Southern Colonies, an agricultural economy heavily reliant on slave labor developed, involving the enslavement of millions of Africans.\\n\\nTensions arose in the 18th century between these colonies and Britain, primarily due to taxation without representation, which culminated in events such as the Boston Tea Party in 1773. These events prompted the British Parliament to pass the Intolerable Acts in an attempt to suppress self-governance in the colonies.\\n\\nIn 1776, the colonies declared their independence, forming the United States of America. Under the leadership of General George Washington, the colonies won the Revolutionary War against Britain, achieving victory in 1783. The United States adopted its Constitution in 1789, followed by the Bill of Rights in 1791, which enshrined fundamental rights.\\n\\nGeorge Washington became the first President, and along with his adviser Alexander Hamilton, began shaping the new nation's governmental and economic structures. This marked the early stages of the United States' journey to becoming an independent and unified country. TERMINATE\", 'role': 'user', 'name': 'chatbot'}], summary=\"The history of the United States began with the arrival of the first people in the Americas around 15,000 BC. European colonization commenced in the late 15th century, and this led to significant impacts on Indigenous societies, including wars and epidemics that decimated populations. By the 1760s, thirteen British colonies were firmly established. In the Southern Colonies, an agricultural economy heavily reliant on slave labor developed, involving the enslavement of millions of Africans.\\n\\nTensions arose in the 18th century between these colonies and Britain, primarily due to taxation without representation, which culminated in events such as the Boston Tea Party in 1773. These events prompted the British Parliament to pass the Intolerable Acts in an attempt to suppress self-governance in the colonies.\\n\\nIn 1776, the colonies declared their independence, forming the United States of America. Under the leadership of General George Washington, the colonies won the Revolutionary War against Britain, achieving victory in 1783. The United States adopted its Constitution in 1789, followed by the Bill of Rights in 1791, which enshrined fundamental rights.\\n\\nGeorge Washington became the first President, and along with his adviser Alexander Hamilton, began shaping the new nation's governmental and economic structures. This marked the early stages of the United States' journey to becoming an independent and unified country. \", cost={'usage_including_cached_inference': {'total_cost': 0.00639, 'gpt-4o-2024-08-06': {'cost': 0.00639, 'prompt_tokens': 1356, 'completion_tokens': 300, 'total_tokens': 1656}}, 'usage_excluding_cached_inference': {'total_cost': 0}}, human_input=[])"
            ]
          },
          "execution_count": 4,
          "metadata": {},
          "output_type": "execute_result"
        }
      ],
      "source": [
        "message = \"Tell me about the history of the United States\"\n",
        "user_proxy.initiate_chat(recipient=chatbot, message=message, max_turns=2)"
      ]
    },
    {
      "cell_type": "markdown",
      "metadata": {
        "id": "S-FkjSYV3TVD"
      },
      "source": [
        "## CrewAI Tools Integration\n",
        "\n",
        "CrewAI provides a variety of powerful tools designed for tasks such as web scraping, search, code interpretation, and more. These tools are easy to integrate into the AG2 framework, allowing you to enhance your agents with advanced capabilities. You can explore the full list of available tools in the [CrewAI Tools](https://github.com/crewAIInc/crewAI-tools/tree/main) repository.\n",
        "\n",
        "### Installation\n",
        "Install the required packages for integrating CrewAI tools into the AG2 framework.\n",
        "This ensures all dependencies for both frameworks are installed.\n",
        "\n",
        "```bash\n",
        "pip install ag2[interop-crewai]\n",
        "```"
      ]
    },
    {
      "cell_type": "markdown",
      "metadata": {
        "id": "iXMXZu0i3TVD"
      },
      "source": [
        "### Imports\n",
        "\n",
        "Import necessary modules and tools.\n",
        "\n",
        "- [ScrapeWebsiteTool](https://docs.crewai.com/tools/scrapewebsitetool) are the CrewAI tools for web scraping\n",
        "- `AssistantAgent` and `UserProxyAgent` are core AG2 classes.\n",
        "- `Interoperability`: This module acts as a bridge, making it easier to integrate CrewAI tools with AG2’s architecture."
      ]
    },
    {
      "cell_type": "code",
      "execution_count": null,
      "metadata": {
        "id": "6RubbEZb3TVD"
      },
      "outputs": [],
      "source": [
        "import os\n",
        "\n",
        "from crewai_tools import ScrapeWebsiteTool\n",
        "\n",
        "from autogen import AssistantAgent, UserProxyAgent\n",
        "from autogen.interop import Interoperability"
      ]
    },
    {
      "cell_type": "markdown",
      "metadata": {
        "id": "pxFhlNhy3TVD"
      },
      "source": [
        "### Agent Configuration\n",
        "\n",
        "Configure the agents for the interaction.\n",
        "\n",
        "- `config_list` defines the LLM configurations, including the model and API key.\n",
        "- `UserProxyAgent` simulates user inputs without requiring actual human interaction (set to `NEVER`).\n",
        "- `AssistantAgent` represents the AI agent, configured with the LLM settings."
      ]
    },
    {
      "cell_type": "code",
      "execution_count": null,
      "metadata": {
        "id": "zLGyMAdC3TVE"
      },
      "outputs": [],
      "source": [
        "config_list = [{\"model\": \"gpt-4o\", \"api_key\": os.environ[\"OPENAI_API_KEY\"]}]\n",
        "user_proxy = UserProxyAgent(\n",
        "    name=\"User\",\n",
        "    human_input_mode=\"NEVER\",\n",
        ")\n",
        "\n",
        "chatbot = AssistantAgent(\n",
        "    name=\"chatbot\",\n",
        "    llm_config={\"config_list\": config_list},\n",
        ")"
      ]
    },
    {
      "cell_type": "markdown",
      "metadata": {
        "id": "cutiYgk23TVE"
      },
      "source": [
        "### Tool Integration\n",
        "\n",
        "Initialize and register the CrewAI tool with AG2.\n",
        "\n",
        "- `crewai_tool` is an instance of the [ScrapeWebsiteTool](https://docs.crewai.com/tools/scrapewebsitetool) from CrewAI.\n",
        "- `Interoperability` converts the CrewAI tool to make it usable in AG2.\n",
        "- `register_for_execution` and `register_for_llm` allow the tool to work with the UserProxyAgent and AssistantAgent."
      ]
    },
    {
      "cell_type": "code",
      "execution_count": null,
      "metadata": {
        "id": "Rt-oyZKz3TVE",
        "outputId": "146c8ac1-b497-4e39-8773-c2c362b1fd21"
      },
      "outputs": [
        {
          "name": "stdout",
          "output_type": "stream",
          "text": [
            "\u001b[33mUser\u001b[0m (to chatbot):\n",
            "\n",
            "Scrape the website https://ag2.ai/\n",
            "\n",
            "--------------------------------------------------------------------------------\n",
            "\u001b[33mchatbot\u001b[0m (to User):\n",
            "\n",
            "\u001b[32m***** Suggested tool call (call_LdavPAKRVqcxteSplbAXedfp): Read_website_content *****\u001b[0m\n",
            "Arguments: \n",
            "{\"args\":{\"website_url\":\"https://ag2.ai/\"}}\n",
            "\u001b[32m*************************************************************************************\u001b[0m\n",
            "\n",
            "--------------------------------------------------------------------------------\n",
            "\u001b[35m\n",
            ">>>>>>>> EXECUTING FUNCTION Read_website_content...\u001b[0m\n",
            "Using Tool: Read website content\n",
            "\u001b[33mUser\u001b[0m (to chatbot):\n",
            "\n",
            "\u001b[32m***** Response from calling tool (call_LdavPAKRVqcxteSplbAXedfp) *****\u001b[0m\n",
            "\n",
            "AgentOS\n",
            "Join our growing community of over 20,000 agent builders Join our growing community of over 20,000 agent builders The Open-Source AgentOS Build production-ready multi-agent systems in minutes, not months. Github Discord The End-to-End Platform for Multi-Agent Automation The End-to-End Platform for Multi-Agent Automation Flexible Agent Construction and Orchestration Create specialized agents that work together seamlessly. AG2 makes it easy to define roles, configure behaviors, and orchestrate collaboration - all through simple, intuitive code. → Assistant agents for problem-solving → Executor agents for taking action → Critic agents for validation → Group chat managers for coordination Built-in Conversation Patterns Built-in Conversation Patterns Stop wrestling with agent coordination. AG2 handles message routing, state management, and conversation flow automatically. → Two-agent conversations → Group chats with dynamic speaker selection → Sequential chats with context carryover → Nested conversations for modularity Seamless Human-AI collaboration Seamless Human-AI collaboration Seamlessly integrate human oversight and input into your agent workflows. → Configurable human input modes → Flexible intervention points → Optional human approval workflows → Interactive conversation interfaces → Context-aware human handoff Roadmap AG2 STUDIO → Visual agent system design → Real-time testing and debugging → One-click deployment to production → Perfect for prototyping and MVPs AG2 STUDIO → Visual agent system design → Real-time testing and debugging → One-click deployment to production → Perfect for prototyping and MVPs AG2 STUDIO → Visual agent system design → Real-time testing and debugging → One-click deployment to production → Perfect for prototyping and MVPs AG2 MARKETPLACE → Share and monetize your agents → Discover pre-built solution templates → Quick-start your agent development → Connect with other builders AG2 MARKETPLACE → Share and monetize your agents → Discover pre-built solution templates → Quick-start your agent development → Connect with other builders AG2 MARKETPLACE → Share and monetize your agents → Discover pre-built solution templates → Quick-start your agent development → Connect with other builders SCALING TOOLS → Zero to production deployment guides → Usage analytics and cost optimization → Team collaboration features → Enterprise-ready security controls SCALING TOOLS → Zero to production deployment guides → Usage analytics and cost optimization → Team collaboration features → Enterprise-ready security controls SCALING TOOLS → Zero to production deployment guides → Usage analytics and cost optimization → Team collaboration features → Enterprise-ready security controls AG2 STUDIO → Visual agent system design → Real-time testing and debugging → One-click deployment to production → Perfect for prototyping and MVPs AG2 STUDIO → Visual agent system design → Real-time testing and debugging → One-click deployment to production → Perfect for prototyping and MVPs AG2 MARKETPLACE → Share and monetize your agents → Discover pre-built solution templates → Quick-start your agent development → Connect with other builders AG2 MARKETPLACE → Share and monetize your agents → Discover pre-built solution templates → Quick-start your agent development → Connect with other builders SCALING TOOLS → Zero to production deployment guides → Usage analytics and cost optimization → Team collaboration features → Enterprise-ready security controls SCALING TOOLS → Zero to production deployment guides → Usage analytics and cost optimization → Team collaboration features → Enterprise-ready security controls Whether you're a solo founder prototyping the next big AI product, or an enterprise team deploying at scale we're building AG2 for you. This is AgentOS - making multi-agent development accessible to everyone. Github Join Our Growing Community Join Our Growing Community → 20,000+ active agent builders → Daily technical discussions → Weekly community calls → Open RFC process → Regular contributor events (Coming soon) Discord Problem Features Roadmap Community Documentation Problem Features Roadmap Community Documentation Problem Features Roadmap Community Documentation\n",
            "\n",
            "\u001b[32m**********************************************************************\u001b[0m\n",
            "\n",
            "--------------------------------------------------------------------------------\n",
            "\u001b[33mchatbot\u001b[0m (to User):\n",
            "\n",
            "The website https://ag2.ai/ provides the following information:\n",
            "\n",
            "- **AgentOS Community**: Over 20,000 agent builders are part of the community.\n",
            "- **Open-Source AgentOS**: It focuses on building production-ready multi-agent systems quickly.\n",
            "- **Platform for Multi-Agent Automation**: Includes flexible agent construction and orchestration, and built-in conversation patterns.\n",
            "  - **Agent Types**:\n",
            "    - Assistant agents for problem-solving.\n",
            "    - Executor agents for taking action.\n",
            "    - Critic agents for validation.\n",
            "    - Group chat managers for coordination.\n",
            "  - **Conversation Patterns**:\n",
            "    - Two-agent conversations.\n",
            "    - Group chats with dynamic speaker selection.\n",
            "    - Sequential and nested conversations.\n",
            "\n",
            "- **Human-AI Collaboration**: Allows integration of human oversight and input with agents.\n",
            "- **AG2 Studio**: A tool for visual agent system design, real-time testing, debugging, and deployment.\n",
            "- **AG2 Marketplace**: Platform for sharing, monetizing agents, and discovering templates.\n",
            "- **Scaling Tools**: Guides for deployment, usage analytics, cost optimization, and team collaboration features.\n",
            "  \n",
            "The tagline suggests that AgentOS is designed to make multi-agent development accessible, catering to both solo founders and enterprise teams.\n",
            "\n",
            "TERMINATE\n",
            "\n",
            "--------------------------------------------------------------------------------\n"
          ]
        }
      ],
      "source": [
        "interop = Interoperability()\n",
        "crewai_tool = ScrapeWebsiteTool()\n",
        "ag2_tool = interop.convert_tool(tool=crewai_tool, type=\"crewai\")\n",
        "\n",
        "ag2_tool.register_for_execution(user_proxy)\n",
        "ag2_tool.register_for_llm(chatbot)\n",
        "\n",
        "message = \"Scrape the website https://ag2.ai/\"\n",
        "\n",
        "chat_result = user_proxy.initiate_chat(recipient=chatbot, message=message, max_turns=2)"
      ]
    },
    {
      "cell_type": "code",
      "execution_count": null,
      "metadata": {
        "id": "CSz0MkaY3TVE",
        "outputId": "67403a49-3bda-4470-bad9-e784bb43f625"
      },
      "outputs": [
        {
          "name": "stdout",
          "output_type": "stream",
          "text": [
            "The website https://ag2.ai/ provides the following information:\n",
            "\n",
            "- **AgentOS Community**: Over 20,000 agent builders are part of the community.\n",
            "- **Open-Source AgentOS**: It focuses on building production-ready multi-agent systems quickly.\n",
            "- **Platform for Multi-Agent Automation**: Includes flexible agent construction and orchestration, and built-in conversation patterns.\n",
            "  - **Agent Types**:\n",
            "    - Assistant agents for problem-solving.\n",
            "    - Executor agents for taking action.\n",
            "    - Critic agents for validation.\n",
            "    - Group chat managers for coordination.\n",
            "  - **Conversation Patterns**:\n",
            "    - Two-agent conversations.\n",
            "    - Group chats with dynamic speaker selection.\n",
            "    - Sequential and nested conversations.\n",
            "\n",
            "- **Human-AI Collaboration**: Allows integration of human oversight and input with agents.\n",
            "- **AG2 Studio**: A tool for visual agent system design, real-time testing, debugging, and deployment.\n",
            "- **AG2 Marketplace**: Platform for sharing, monetizing agents, and discovering templates.\n",
            "- **Scaling Tools**: Guides for deployment, usage analytics, cost optimization, and team collaboration features.\n",
            "  \n",
            "The tagline suggests that AgentOS is designed to make multi-agent development accessible, catering to both solo founders and enterprise teams.\n",
            "\n",
            "\n"
          ]
        }
      ],
      "source": [
        "print(chat_result.summary)"
      ]
    },
    {
      "cell_type": "markdown",
      "metadata": {
        "id": "45YrDXT53TVE"
      },
      "source": [
        "## PydanticAI Tools Integration\n",
        "\n",
        "[PydanticAI](https://ai.pydantic.dev/) is a newer framework that offers powerful capabilities for working with LLMs. Although it currently does not have a repository with pre-built tools, it provides features like **dependency injection**, allowing you to inject a \"Context\" into a tool for better execution without relying on LLMs. This context can be used for passing parameters or managing state during the execution of a tool. While the framework is still growing, you can integrate its tools into AG2 to enhance agent capabilities, especially for tasks that involve structured data and context-driven logic.\n",
        "\n",
        "### Installation\n",
        "To integrate LangChain tools into the AG2 framework, install the required dependencies:\n",
        "\n",
        "```bash\n",
        "pip install ag2[interop-pydantic-ai]\n",
        "```\n"
      ]
    },
    {
      "cell_type": "markdown",
      "metadata": {
        "id": "UUisp8wV3TVF"
      },
      "source": [
        "### Imports\n",
        "\n",
        "Import necessary modules and tools.\n",
        "\n",
        "- [BaseModel](https://docs.pydantic.dev/latest/api/base_model/): Used to define data structures for tool inputs and outputs.\n",
        "- [RunContext](https://ai.pydantic.dev/api/tools/#pydantic_ai.tools.RunContext): Provides context during the execution of tools.\n",
        "- [PydanticAITool](https://ai.pydantic.dev/api/tools/#pydantic_ai.tools.Tool): Represents a tool in the PydanticAI framework.\n",
        "- `AssistantAgent` and `UserProxyAgent`: Agents that facilitate communication in the AG2 framework.\n",
        "- `Interoperability`: This module acts as a bridge, making it easier to integrate PydanticAI tools with AG2’s architecture."
      ]
    },
    {
      "cell_type": "code",
      "execution_count": null,
      "metadata": {
        "id": "4DDr02Vj3TVF"
      },
      "outputs": [],
      "source": [
        "import os\n",
        "from typing import Optional\n",
        "\n",
        "from pydantic import BaseModel\n",
        "from pydantic_ai import RunContext\n",
        "from pydantic_ai.tools import Tool as PydanticAITool\n",
        "\n",
        "from autogen import AssistantAgent, UserProxyAgent\n",
        "from autogen.interop import Interoperability"
      ]
    },
    {
      "cell_type": "markdown",
      "metadata": {
        "id": "ogwF8W113TVF"
      },
      "source": [
        "### Agent Configuration\n",
        "\n",
        "Configure the agents for the interaction.\n",
        "\n",
        "- `config_list` defines the LLM configurations, including the model and API key.\n",
        "- `UserProxyAgent` simulates user inputs without requiring actual human interaction (set to `NEVER`).\n",
        "- `AssistantAgent` represents the AI agent, configured with the LLM settings."
      ]
    },
    {
      "cell_type": "code",
      "execution_count": null,
      "metadata": {
        "id": "_f1BIZoW3TVF"
      },
      "outputs": [],
      "source": [
        "config_list = [{\"model\": \"gpt-4o\", \"api_key\": os.environ[\"OPENAI_API_KEY\"]}]\n",
        "user_proxy = UserProxyAgent(\n",
        "    name=\"User\",\n",
        "    human_input_mode=\"NEVER\",\n",
        ")\n",
        "\n",
        "chatbot = AssistantAgent(\n",
        "    name=\"chatbot\",\n",
        "    llm_config={\"config_list\": config_list},\n",
        ")"
      ]
    },
    {
      "cell_type": "markdown",
      "metadata": {
        "id": "0ytH8TNu3TVF"
      },
      "source": [
        "### Tool Integration\n",
        "\n",
        "Integrate the PydanticAI tool with AG2.\n",
        "\n",
        "- Define a `Player` model using [BaseModel](https://docs.pydantic.dev/latest/api/base_model/) to structure the input data.\n",
        "- Use [RunContext](https://ai.pydantic.dev/api/tools/#pydantic_ai.tools.RunContext) to securely inject dependencies (like the `Player` instance) into the tool function without exposing them to the LLM.\n",
        "- Implement `get_player` to define the tool's functionality, accessing `ctx.deps` for injected data.\n",
        "- Convert the tool to an AG2-compatible format with `Interoperability` and register it for execution and LLM communication.\n",
        "- Convert the PydanticAI tool into an AG2-compatible format using `convert_tool`.\n",
        "- Register the tool for both execution and communication with the LLM by associating it with the `user_proxy` and `chatbot`."
      ]
    },
    {
      "cell_type": "code",
      "execution_count": null,
      "metadata": {
        "id": "j-m2tuQO3TVF"
      },
      "outputs": [],
      "source": [
        "class Player(BaseModel):\n",
        "    name: str\n",
        "    age: int\n",
        "\n",
        "\n",
        "def get_player(ctx: RunContext[Player], additional_info: Optional[str] = None) -> str:  # type: ignore[valid-type]\n",
        "    \"\"\"Get the player's name.\n",
        "\n",
        "    Args:\n",
        "        additional_info: Additional information which can be used.\n",
        "    \"\"\"\n",
        "    return f\"Name: {ctx.deps.name}, Age: {ctx.deps.age}, Additional info: {additional_info}\"  # type: ignore[attr-defined]\n",
        "\n",
        "\n",
        "interop = Interoperability()\n",
        "pydantic_ai_tool = PydanticAITool(get_player, takes_ctx=True)\n",
        "\n",
        "# player will be injected as a dependency\n",
        "player = Player(name=\"Luka\", age=25)\n",
        "ag2_tool = interop.convert_tool(tool=pydantic_ai_tool, type=\"pydanticai\", deps=player)\n",
        "\n",
        "ag2_tool.register_for_execution(user_proxy)\n",
        "ag2_tool.register_for_llm(chatbot)"
      ]
    },
    {
      "cell_type": "markdown",
      "metadata": {
        "id": "Ram4U8Cb3TVF"
      },
      "source": [
        "Initiate a conversation between the `UserProxyAgent` and the `AssistantAgent`.\n",
        "\n",
        "- Use the `initiate_chat` method to send a message from the `user_proxy` to the `chatbot`.\n",
        "- In this example, the user requests the chatbot to retrieve player information, providing \"goal keeper\" as additional context.\n",
        "- The `Player` instance is securely injected into the tool using [RunContext](https://ai.pydantic.dev/api/tools/#pydantic_ai.tools.RunContext), ensuring the chatbot can retrieve and use this data during the interaction."
      ]
    },
    {
      "cell_type": "code",
      "execution_count": null,
      "metadata": {
        "id": "KjuhafEd3TVF",
        "outputId": "0056f134-e514-4b2f-da55-e87235212c7a"
      },
      "outputs": [
        {
          "name": "stdout",
          "output_type": "stream",
          "text": [
            "\u001b[33mUser\u001b[0m (to chatbot):\n",
            "\n",
            "Get player, for additional information use 'goal keeper'\n",
            "\n",
            "--------------------------------------------------------------------------------\n",
            "\u001b[33mchatbot\u001b[0m (to User):\n",
            "\n",
            "\u001b[32m***** Suggested tool call (call_6zAckrEDxxbffyNc4XtX5rIM): get_player *****\u001b[0m\n",
            "Arguments: \n",
            "{\"additional_info\":\"goal keeper\"}\n",
            "\u001b[32m***************************************************************************\u001b[0m\n",
            "\n",
            "--------------------------------------------------------------------------------\n",
            "\u001b[35m\n",
            ">>>>>>>> EXECUTING FUNCTION get_player...\u001b[0m\n",
            "\u001b[33mUser\u001b[0m (to chatbot):\n",
            "\n",
            "\u001b[32m***** Response from calling tool (call_6zAckrEDxxbffyNc4XtX5rIM) *****\u001b[0m\n",
            "Name: Luka, Age: 25, Additional info: goal keeper\n",
            "\u001b[32m**********************************************************************\u001b[0m\n",
            "\n",
            "--------------------------------------------------------------------------------\n",
            "\u001b[33mchatbot\u001b[0m (to User):\n",
            "\n",
            "The player's name is Luka, aged 25, and he is a goal keeper. TERMINATE\n",
            "\n",
            "--------------------------------------------------------------------------------\n",
            "\u001b[33mUser\u001b[0m (to chatbot):\n",
            "\n",
            "\n",
            "\n",
            "--------------------------------------------------------------------------------\n",
            "\u001b[33mchatbot\u001b[0m (to User):\n",
            "\n",
            "It looks like there isn't any additional input from your side. If you need further assistance, feel free to ask! TERMINATE\n",
            "\n",
            "--------------------------------------------------------------------------------\n"
          ]
        },
        {
          "data": {
            "text/plain": [
              "ChatResult(chat_id=None, chat_history=[{'content': \"Get player, for additional information use 'goal keeper'\", 'role': 'assistant', 'name': 'User'}, {'tool_calls': [{'id': 'call_6zAckrEDxxbffyNc4XtX5rIM', 'function': {'arguments': '{\"additional_info\":\"goal keeper\"}', 'name': 'get_player'}, 'type': 'function'}], 'content': None, 'role': 'assistant'}, {'content': 'Name: Luka, Age: 25, Additional info: goal keeper', 'tool_responses': [{'tool_call_id': 'call_6zAckrEDxxbffyNc4XtX5rIM', 'role': 'tool', 'content': 'Name: Luka, Age: 25, Additional info: goal keeper'}], 'role': 'tool', 'name': 'User'}, {'content': \"The player's name is Luka, aged 25, and he is a goal keeper. TERMINATE\", 'role': 'user', 'name': 'chatbot'}, {'content': '', 'role': 'assistant', 'name': 'User'}, {'content': \"It looks like there isn't any additional input from your side. If you need further assistance, feel free to ask! TERMINATE\", 'role': 'user', 'name': 'chatbot'}], summary=\"It looks like there isn't any additional input from your side. If you need further assistance, feel free to ask! \", cost={'usage_including_cached_inference': {'total_cost': 0.0048325, 'gpt-4o-2024-08-06': {'cost': 0.0048325, 'prompt_tokens': 1677, 'completion_tokens': 64, 'total_tokens': 1741}}, 'usage_excluding_cached_inference': {'total_cost': 0}}, human_input=[])"
            ]
          },
          "execution_count": 12,
          "metadata": {},
          "output_type": "execute_result"
        }
      ],
      "source": [
        "user_proxy.initiate_chat(\n",
        "    recipient=chatbot, message=\"Get player, for additional information use 'goal keeper'\", max_turns=3\n",
        ")"
      ]
    }
  ],
  "metadata": {
    "front_matter": {
      "description": "Cross-Framework LLM Tool Integration with AG2",
      "tags": [
        "tools",
        "langchain",
        "crewai",
        "pydanticai"
      ]
    },
    "kernelspec": {
      "display_name": "Python 3",
      "language": "python",
      "name": "python3"
    },
    "language_info": {
      "codemirror_mode": {
        "name": "ipython",
        "version": 3
      },
      "file_extension": ".py",
      "mimetype": "text/x-python",
      "name": "python",
      "nbconvert_exporter": "python",
      "pygments_lexer": "ipython3",
      "version": "3.11.11"
    },
    "colab": {
      "provenance": [],
      "include_colab_link": true
    }
  },
  "nbformat": 4,
  "nbformat_minor": 0
}